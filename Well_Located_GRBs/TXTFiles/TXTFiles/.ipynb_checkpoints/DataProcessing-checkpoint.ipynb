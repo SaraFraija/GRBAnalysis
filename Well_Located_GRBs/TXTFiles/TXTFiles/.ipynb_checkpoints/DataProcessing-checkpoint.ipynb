{
 "cells": [
  {
   "cell_type": "code",
   "execution_count": null,
   "id": "eb1174a9",
   "metadata": {},
   "outputs": [],
   "source": []
  },
  {
   "cell_type": "code",
   "execution_count": 102,
   "id": "25af2cf1",
   "metadata": {},
   "outputs": [],
   "source": [
    "import pandas as pd\n",
    "import numpy as np\n",
    "import os\n",
    "import glob\n",
    "import csv\n",
    "# directory=os.getcwd()\n",
    "head='#dt[s] uptime[s] startGPS[s] stopGPS[s] TS sqrt(TS) flux[TeV^-1cm^-2s^-1] fluxErr'\n",
    "all_files = os.listdir('.')\n",
    "search_pattern = 'GRB*txt'\n",
    "files = [f for f in all_files if glob.fnmatch.fnmatch(f, search_pattern)]\n",
    "head.split()\n",
    "all_directories = next(os.walk('.'))[1]\n",
    "GRBs={}\n",
    "Sig35={}\n",
    "l=int(len(files))     \n",
    "for name in files:\n",
    "    DF=pd.read_csv(name,header=0,sep='\\s+',skiprows=lambda x: x in head.split())\n",
    "    DF2=DF[DF['uptime[s]']!='uptime[s]']\n",
    "    DF2=DF2.sort_values(by='startGPS[s]',ignore_index=True)\n",
    "    GRBs[name]=DF2\n",
    "    DF2=DF2[DF2['sqrt(TS)']>'3.5']\n",
    "    if not DF2.empty:\n",
    "        Sig35[name]=DF2\n",
    "    if name=='GRB210323918file.txt':\n",
    "          continue\n",
    "    else:\n",
    "        l=len(GRBs[name])/10   \n",
    "        F=E\n",
    "        for i in range(int(l)-1):\n",
    "            F=E+F\n",
    "        GRBs[name]['Energy']=F\n",
    "\n",
    "with open('SignGreater35.csv', 'w') as f:\n",
    "    for key in Sig35.keys():\n",
    "        f.write(\"%s,%s\\n\"%(key,Sig35[key]))\n",
    "GRBs35=list(Sig35.keys())"
   ]
  },
  {
   "cell_type": "code",
   "execution_count": null,
   "id": "181a0560",
   "metadata": {},
   "outputs": [],
   "source": []
  }
 ],
 "metadata": {
  "kernelspec": {
   "display_name": "Python 3 (ipykernel)",
   "language": "python",
   "name": "python3"
  },
  "language_info": {
   "codemirror_mode": {
    "name": "ipython",
    "version": 3
   },
   "file_extension": ".py",
   "mimetype": "text/x-python",
   "name": "python",
   "nbconvert_exporter": "python",
   "pygments_lexer": "ipython3",
   "version": "3.10.6"
  }
 },
 "nbformat": 4,
 "nbformat_minor": 5
}
