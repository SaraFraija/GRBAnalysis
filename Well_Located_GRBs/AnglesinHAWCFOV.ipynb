{
 "cells": [
  {
   "cell_type": "code",
   "execution_count": 39,
   "id": "8781a196",
   "metadata": {},
   "outputs": [
    {
     "name": "stdout",
     "output_type": "stream",
     "text": [
      "Closest Zenith to GRB\n",
      "GRB150819440\n",
      "GRB170206453\n",
      "GRB171007498\n",
      "GRB180418281\n",
      "GRB201214672\n"
     ]
    }
   ],
   "source": [
    "import numpy as np\n",
    "import csv\n",
    "import astropy.coordinates as coord\n",
    "import astropy.units as u\n",
    "from astropy.coordinates import Galactic\n",
    "from astropy.coordinates import SkyCoord\n",
    "from astropy.coordinates import EarthLocation\n",
    "from astropy.time import Time\n",
    "from astropy.coordinates import AltAz\n",
    "import matplotlib.pyplot as plt\n",
    "from matplotlib.projections import get_projection_names\n",
    "from astropy.coordinates import ICRS\n",
    "import math\n",
    "import pandas as pd\n",
    "#################################################################################################\n",
    "def mjdTOgps(value):\n",
    "    \"\"\"This function is only for values\"\"\"\n",
    "    gps_origin = pd.Timestamp('1980-01-06')\n",
    "    MJD_origin = pd.Timestamp('1858-11-17')\n",
    "    # Calculate time difference from GPS origin\n",
    "    d= (value * 86400) - gps_origin.timestamp()+MJD_origin.timestamp()\n",
    "    return d\n",
    "#################################################################################################\n",
    "### HAWC information\n",
    "HAWC= EarthLocation(lat='18.994722', lon='-97.3085', height=4100*u.m)\n",
    "fov=25\n",
    "### Data of GRBs\n",
    "# FILE='ShortGRBs2014_2022_3.5_-10.0_50.02.dat'\n",
    "FILE='data2.dat'\n",
    "FILE_RESULTS='GRBsAngleFromZenith2.dat'\n",
    "# FILE=\"ShortGRBs2014_2022_3.5_-10.0_50.0.dat\"\n",
    "# FILE_RESULTS='GRBsAngleFromZenith.dat'\n",
    "name= np.genfromtxt(FILE, dtype=str)[:,0]\n",
    "results=np.genfromtxt(FILE)\n",
    "\n",
    "RA, DEC, Trigg= results[:,1], results[:,2], results[:,4]\n",
    "      \n",
    "### Closest Zenith of GRBs\n",
    "f = open(FILE_RESULTS,'w')\n",
    "f.write('GRB'+ '\\t' +'AngleFromZenith'+'\\t'+ 'MinutesSinceTrigger'+'\\t'+'Time1FOV'+'\\t'+'Time2FOV'+'\\n')\n",
    "print('Closest Zenith to GRB')\n",
    "for idx, grb in(enumerate(name)):\n",
    "    Time0=Time(Trigg[idx], format='mjd')\n",
    "    gpsT=mjdTOgps(Trigg[idx])\n",
    "    ragrb = coord.Angle(RA[idx]*u.degree)\n",
    "    ragrb = ragrb.wrap_at(180*u.degree)\n",
    "#    decgrb = coord.Angle(DEC[idx]*u.degree)\n",
    "    ZenAng=[]\n",
    "    Zen=[]\n",
    "    Indices=[]\n",
    "    fig, ax = plt.subplots(figsize=(8, 6))\n",
    "    ax = plt.subplot(1,1,1)\n",
    "    IndPlot=[]\n",
    "    ZenPlot=[]\n",
    "    print(grb)\n",
    "#    for i in range(0,48):\n",
    "#        Time01=Time0+i*0.5*u.h\n",
    "    for i in range(0,1440):\n",
    "        Time01=Time0+i*u.min\n",
    "        SkyZen01= SkyCoord(az=0., alt=90, unit=\"deg\", frame=AltAz(obstime=Time01, location=HAWC))\n",
    "        RAzen01=SkyZen01.icrs.ra.deg  \n",
    "        raZen = coord.Angle(RAzen01*u.degree)\n",
    "        raZen = raZen.wrap_at(180*u.degree)        \n",
    "        DECzen01=SkyZen01.icrs.dec.deg\n",
    " #       print(i, raZen.deg, ragrb.deg)\n",
    "  \n",
    "### In angle\n",
    "        ra1rad=np.deg2rad(ragrb.deg)\n",
    "        ra2rad=np.deg2rad(raZen.deg)\n",
    "        dec1rad=np.deg2rad(DEC[idx])\n",
    "        dec2rad=np.deg2rad(DECzen01)\n",
    "#        AA=math.cos(ra1rad)\n",
    "        NumZ=(math.cos(dec2rad)**2.*math.sin(ra2rad-ra1rad)**2.)+(math.cos(dec1rad)*math.sin(dec2rad)-math.sin(dec1rad)*math.cos(dec2rad)*math.cos(ra2rad-ra1rad))**2.\n",
    "        NumZenF=np.sqrt(NumZ)\n",
    "        DenZenF=math.sin(dec1rad)*math.sin(dec2rad)+math.cos(dec1rad)*math.cos(dec2rad)*math.cos(ra2rad-ra1rad)\n",
    "        AnFromZen=math.degrees(math.atan(NumZenF/DenZenF))\n",
    "        ZenAng=np.append(ZenAng, AnFromZen)\n",
    "### For validation\n",
    "        if ragrb.deg > 0 and raZen.deg <0:\n",
    "            RAZen=(180-ragrb.deg)+(180-abs(raZen.deg))\n",
    "            if RAZen > 180:\n",
    "                RAZen= ragrb.deg-raZen.deg\n",
    "        if ragrb.deg > 0 and raZen.deg >0:\n",
    "            RAZen=ragrb.deg-raZen.deg\n",
    "        if ragrb.deg < 0 and raZen.deg < 0:\n",
    "            RAZen= raZen.deg-ragrb.deg\n",
    "        if ragrb.deg <0 and raZen.deg >0:\n",
    "            RAZen=(180-raZen.deg)+(180 -abs(ragrb.deg))\n",
    "            if RAZen > 180:\n",
    " #               print('pasa 180')\n",
    "                RAZen=raZen.deg-ragrb.deg\n",
    " #           ragrb.deg=ragrb.deg\n",
    "#        print(RAZen)\n",
    "        zenith=np.sqrt((RAZen)**2+(DECzen01-DEC[idx])**2)\n",
    "        IndPlot=np.append(IndPlot,i)\n",
    "        ZenPlot=np.append(ZenPlot,zenith)\n",
    " #       if zenith < fov:\n",
    "        Zen=np.append(Zen, zenith)\n",
    "        Indices=np.append(Indices, i)\n",
    "    index_min = np.argmin(Zen)\n",
    "    Angtiempo1=Zen[Zen<45][0]\n",
    "    Angtiempo2=max(Zen[Zen<45])\n",
    "    tiempo1=np.where(Zen==Angtiempo1)[0][0]*60+gpsT\n",
    "    tiempo2=np.where(Zen==Angtiempo2)[0][0]*60+gpsT\n",
    "    f.write(str(grb)+'\\t'+str(min(Zen))+'\\t'+str(Indices[index_min]*60+gpsT)+'\\t'+str(tiempo1)+'\\t'+str(tiempo2)+'\\n')\n",
    "#     print(grb, min(Zen), Indices[index_min],Indices[index_min]*60+gpsT,tiempo1,tiempo2)\n",
    "    ax.scatter(IndPlot, ZenAng, color='black')\n",
    "    ax.set_ylim(0, 90)\n",
    "    ax.set_xlabel('Time since trigger (min)', fontsize=16)\n",
    "    ax.set_ylabel('Angle from Zenith HAWC', fontsize=16)\n",
    "    ax.set_title(grb, fontsize=18)\n",
    "    plt.gca().invert_yaxis()\n",
    "    plt.savefig('ZenithPlots/'+grb+'ZenitAng.png', format='png', dpi=300)\n",
    "    plt.close()\n",
    "f.close()"
   ]
  },
  {
   "cell_type": "code",
   "execution_count": 6,
   "id": "9c4f74f3",
   "metadata": {},
   "outputs": [
    {
     "data": {
      "text/plain": [
       "23.6"
      ]
     },
     "execution_count": 6,
     "metadata": {},
     "output_type": "execute_result"
    }
   ],
   "source": [
    "1416/60\n"
   ]
  },
  {
   "cell_type": "code",
   "execution_count": 7,
   "id": "5a30ff36",
   "metadata": {},
   "outputs": [
    {
     "data": {
      "text/plain": [
       "array([ 0.,  1.,  2.,  3.,  4.,  5.,  6.,  7.,  8.,  9., 10., 11., 12.,\n",
       "       13.])"
      ]
     },
     "execution_count": 7,
     "metadata": {},
     "output_type": "execute_result"
    }
   ],
   "source": [
    "Indices[0:14]"
   ]
  },
  {
   "cell_type": "code",
   "execution_count": 8,
   "id": "64f8dd35",
   "metadata": {},
   "outputs": [
    {
     "ename": "SyntaxError",
     "evalue": "invalid syntax (1095697859.py, line 6)",
     "output_type": "error",
     "traceback": [
      "\u001b[0;36m  File \u001b[0;32m\"/tmp/ipykernel_18276/1095697859.py\"\u001b[0;36m, line \u001b[0;32m6\u001b[0m\n\u001b[0;31m    Z45[:][]\u001b[0m\n\u001b[0m           ^\u001b[0m\n\u001b[0;31mSyntaxError\u001b[0m\u001b[0;31m:\u001b[0m invalid syntax\n"
     ]
    }
   ],
   "source": [
    "Z45=[],t45\n",
    "for i in Zen:\n",
    "    if -45<i<45:\n",
    "        Z45.append(np.where(Zen==i))\n",
    "        t45.append(i)\n",
    "Z45[:][]"
   ]
  },
  {
   "cell_type": "code",
   "execution_count": null,
   "id": "9068fc9f",
   "metadata": {},
   "outputs": [],
   "source": []
  },
  {
   "cell_type": "code",
   "execution_count": null,
   "id": "d75f8c22",
   "metadata": {},
   "outputs": [],
   "source": [
    "Zen[Zen<45]"
   ]
  },
  {
   "cell_type": "code",
   "execution_count": null,
   "id": "baba2f6a",
   "metadata": {},
   "outputs": [],
   "source": [
    "Angtiempo2=max(Zen[Zen<45][1::])\n",
    "tiempo2=np.where(Zen==Angtiempo2)[0][0]*60+gpsT\n",
    "Angtiempo2,(tiempo2-gpsT)/(60)\n",
    "def convert_gps_to_reduced_julian_SIMPLE(value):\n",
    "    # Define GPS time origin (January 6, 1980, midnight UTC)\n",
    "    gps_origin = pd.Timestamp('1980-01-06')\n",
    "    MJD_origin = pd.Timestamp('1858-11-17')\n",
    "    # Calculate time difference from GPS origin\n",
    "    d = (value + gps_origin.timestamp()-MJD_origin.timestamp())/86400\n",
    "    return d\n",
    "tiempo1, tiempo2,convert_gps_to_reduced_julian_SIMPLE(tiempo1),convert_gps_to_reduced_julian_SIMPLE(tiempo2)"
   ]
  },
  {
   "cell_type": "code",
   "execution_count": null,
   "id": "c8a35335",
   "metadata": {},
   "outputs": [],
   "source": [
    "df2.columns"
   ]
  },
  {
   "cell_type": "code",
   "execution_count": null,
   "id": "6abee134",
   "metadata": {},
   "outputs": [],
   "source": [
    "df2"
   ]
  },
  {
   "cell_type": "code",
   "execution_count": 5,
   "id": "f5a33ebd",
   "metadata": {},
   "outputs": [
    {
     "ename": "ValueError",
     "evalue": "The truth value of an array with more than one element is ambiguous. Use a.any() or a.all()",
     "output_type": "error",
     "traceback": [
      "\u001b[0;31m---------------------------------------------------------------------------\u001b[0m",
      "\u001b[0;31mValueError\u001b[0m                                Traceback (most recent call last)",
      "\u001b[0;32m/tmp/ipykernel_6291/1309624680.py\u001b[0m in \u001b[0;36m<module>\u001b[0;34m\u001b[0m\n\u001b[0;32m----> 1\u001b[0;31m \u001b[0mmax\u001b[0m\u001b[0;34m(\u001b[0m\u001b[0mZen\u001b[0m\u001b[0;34m[\u001b[0m\u001b[0mZen\u001b[0m\u001b[0;34m<\u001b[0m\u001b[0;36m45\u001b[0m\u001b[0;34m]\u001b[0m\u001b[0;34m,\u001b[0m\u001b[0;36m2\u001b[0m\u001b[0;34m)\u001b[0m\u001b[0;34m\u001b[0m\u001b[0;34m\u001b[0m\u001b[0m\n\u001b[0m",
      "\u001b[0;31mValueError\u001b[0m: The truth value of an array with more than one element is ambiguous. Use a.any() or a.all()"
     ]
    }
   ],
   "source": [
    "max(Zen[Zen<45])"
   ]
  },
  {
   "cell_type": "code",
   "execution_count": 40,
   "id": "a9287fb0",
   "metadata": {},
   "outputs": [
    {
     "data": {
      "text/plain": [
       "[1101, 14, 1102, 13, 1103, 12, 1104, 11, 1105, 10]"
      ]
     },
     "execution_count": 40,
     "metadata": {},
     "output_type": "execute_result"
    }
   ],
   "source": [
    "A=Zen[Zen<45]\n",
    "B=sorted(A,reverse=True)\n",
    "# A.sort(reverse=True)\n",
    "C=B[0:10]\n",
    "# Zen.ind(C)\n",
    "index=[]\n",
    "for i in C:\n",
    "    index.append(np.where(Zen==i)[0][0])\n",
    "index"
   ]
  },
  {
   "cell_type": "code",
   "execution_count": null,
   "id": "a77014ee",
   "metadata": {},
   "outputs": [],
   "source": []
  }
 ],
 "metadata": {
  "kernelspec": {
   "display_name": "Python 3 (ipykernel)",
   "language": "python",
   "name": "python3"
  },
  "language_info": {
   "codemirror_mode": {
    "name": "ipython",
    "version": 3
   },
   "file_extension": ".py",
   "mimetype": "text/x-python",
   "name": "python",
   "nbconvert_exporter": "python",
   "pygments_lexer": "ipython3",
   "version": "3.10.6"
  }
 },
 "nbformat": 4,
 "nbformat_minor": 5
}
